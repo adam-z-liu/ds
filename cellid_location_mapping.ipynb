{
 "cells": [
  {
   "cell_type": "markdown",
   "metadata": {},
   "source": [
    "## Step 1: Collect cell identity information from Android SDK (more identity collected more accuracy location can identify): \n",
    "#### Android SDK: https://developer.android.com/reference/android/telephony/CellIdentityLte\n",
    "    a. radioType – The radio type of this cell tower. Can also be put directly in root JSON element if all cellTowers have same radioType.\n",
    "    b. mobileCountryCode [Required] – The Mobile Country Code (MCC).\n",
    "    c. mobileNetworkCode [Required] – The Mobile Network Code (MNC) for GSM,WCDMA and LTE. The SystemID (sid) for CDMA.\n",
    "    d. locationAreaCode [Required] – The Location Area Code (LAC) for GSM,WCDMA and LTE. The Network ID for CDMA\n",
    "    e. cellId [Required] – The Cell ID (CID) for GSM, WCDMA and LTE. The Basestation ID for CDMA.\n",
    "    f. signalStrength – The signal strength for this cell tower in dBm.\n",
    "    g. timingAdvance – The timing advance value for this cell tower when available. (Optional)\n",
    "    h. primaryScramblingCode – The primary scrambling code for WCDMA and physical CellId for LTE.\n",
    "    i. serving – Specify with 0/1 if the cell is serving or not. If not specified, the first cell is assumed to be serving.\n",
    "## Step 2: Call combain API to get long/lat from Cell identity information \n",
    "#### API doc: https://combain.com/api/\n",
    "## Step 3: Convert long/lat to zipcode"
   ]
  },
  {
   "cell_type": "markdown",
   "metadata": {},
   "source": [
    "### 1. Get long/lat coordinates from Cell ID"
   ]
  },
  {
   "cell_type": "code",
   "execution_count": 2,
   "metadata": {},
   "outputs": [
    {
     "name": "stdout",
     "output_type": "stream",
     "text": [
      "Returned location: 59.33171, 18.07907\n"
     ]
    }
   ],
   "source": [
    "import http.client\n",
    "import json\n",
    " \n",
    "apiKey = \"6v8oacy1wpcze4q5rq6s\"\n",
    " \n",
    "data = {\n",
    "    \"radioType\": \"gsm\",\n",
    "    \"cellTowers\": [{\n",
    "        \"mobileCountryCode\": 240,\n",
    "        \"mobileNetworkCode\": 1,\n",
    "        \"locationAreaCode\": 3012,\n",
    "        \"cellId\": 11950\n",
    "    }]\n",
    "}\n",
    "headers = { \"Content-Type\" : \"text/json\" }\n",
    "conn = http.client.HTTPSConnection(\"cps.combain.com\",443)\n",
    "conn.request(\"POST\", \"/?key=\"+apiKey, json.dumps(data), headers)\n",
    "response = conn.getresponse()\n",
    "result = json.load(response)\n",
    " \n",
    "if (\"location\" in result):\n",
    "    print(\"Returned location: \"+str(result['location']['lat'])+\", \"+str(result['location']['lng']))\n",
    "else:\n",
    "    print(\"The following error occurred: \"+result['error']['message'])"
   ]
  },
  {
   "cell_type": "code",
   "execution_count": 21,
   "metadata": {
    "scrolled": false
   },
   "outputs": [
    {
     "data": {
      "text/html": [
       "<div style=\"width:100%;\"><div style=\"position:relative;width:100%;height:0;padding-bottom:60%;\"><iframe src=\"data:text/html;charset=utf-8;base64,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\" style=\"position:absolute;width:100%;height:100%;left:0;top:0;border:none !important;\" allowfullscreen webkitallowfullscreen mozallowfullscreen></iframe></div></div>"
      ],
      "text/plain": [
       "<folium.folium.Map at 0x1120895c0>"
      ]
     },
     "execution_count": 21,
     "metadata": {},
     "output_type": "execute_result"
    }
   ],
   "source": [
    "map_ = folium.Map(location=[59.33171, 18.07907], zoom_start=10)\n",
    "folium.Marker([59.33171, 18.07907]).add_to(map_)\n",
    "map_"
   ]
  },
  {
   "cell_type": "markdown",
   "metadata": {},
   "source": [
    "### 2. Convert long/lat coordinates to Zipcode"
   ]
  },
  {
   "cell_type": "code",
   "execution_count": 53,
   "metadata": {},
   "outputs": [
    {
     "data": {
      "text/plain": [
       "{'address': {'address29': 'Båtutflykter',\n",
       "  'city': 'Sthlm',\n",
       "  'city_district': 'Östermalms stadsdelsområde',\n",
       "  'country': 'Sverige',\n",
       "  'country_code': 'se',\n",
       "  'county': 'Stockholm',\n",
       "  'neighbourhood': 'Villastaden',\n",
       "  'pedestrian': 'Strandvägskajen',\n",
       "  'postcode': '104 40',\n",
       "  'state': 'Stockholms län',\n",
       "  'state_district': 'Sveriges Landskap',\n",
       "  'suburb': 'Östermalm'},\n",
       " 'boundingbox': ['59.3316724', '59.3318724', '18.0790764', '18.0792764'],\n",
       " 'display_name': 'Båtutflykter, Strandvägskajen, Villastaden, Östermalm, Östermalms stadsdelsområde, Sthlm, Stockholm, Sveriges Landskap, Stockholms län, Svealand, 104 40, Sverige',\n",
       " 'lat': '59.3317724',\n",
       " 'licence': 'Data © OpenStreetMap contributors, ODbL 1.0. https://osm.org/copyright',\n",
       " 'lon': '18.0791764',\n",
       " 'osm_id': 486079032,\n",
       " 'osm_type': 'node',\n",
       " 'place_id': 4512131}"
      ]
     },
     "execution_count": 53,
     "metadata": {},
     "output_type": "execute_result"
    }
   ],
   "source": [
    "from geopy.geocoders import Nominatim\n",
    "geolocator = Nominatim(user_agent=\"my-application\", timeout=10)\n",
    "location = geolocator.reverse(\"59.33171, 18.07907\")\n",
    "\n",
    "location.raw"
   ]
  },
  {
   "cell_type": "code",
   "execution_count": 69,
   "metadata": {},
   "outputs": [
    {
     "data": {
      "text/plain": [
       "'104 40'"
      ]
     },
     "execution_count": 69,
     "metadata": {},
     "output_type": "execute_result"
    }
   ],
   "source": [
    "postcode = location_dic['address']['postcode']\n",
    "postcode"
   ]
  }
 ],
 "metadata": {
  "kernelspec": {
   "display_name": "Python 3",
   "language": "python",
   "name": "python3"
  },
  "language_info": {
   "codemirror_mode": {
    "name": "ipython",
    "version": 3
   },
   "file_extension": ".py",
   "mimetype": "text/x-python",
   "name": "python",
   "nbconvert_exporter": "python",
   "pygments_lexer": "ipython3",
   "version": "3.6.8"
  }
 },
 "nbformat": 4,
 "nbformat_minor": 2
}
