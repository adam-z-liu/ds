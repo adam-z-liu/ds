{
 "cells": [
  {
   "cell_type": "code",
   "execution_count": 1,
   "metadata": {},
   "outputs": [],
   "source": [
    "import numpy as np\n",
    "import pandas as pd\n",
    "import seaborn as sns\n",
    "import matplotlib.pyplot as plt"
   ]
  },
  {
   "cell_type": "markdown",
   "metadata": {},
   "source": [
    "# Assuming that we have 100M viewer with 6 segments. each segment have different viewer coverage:\n",
    "## seg1: 0.1%\n",
    "## seg2: 1.2%\n",
    "## seg3: 9.8%\n",
    "## seg4: 21.2%\n",
    "## seg5: 28.8%\n",
    "## seg6: 38.9"
   ]
  },
  {
   "cell_type": "code",
   "execution_count": 2,
   "metadata": {},
   "outputs": [],
   "source": [
    "total_data_size = 1000000\n",
    "df = {'name': ['seg_0.001', 'seg_0.012', 'seg_0.098', 'seg_0.212', 'seg_0.288', 'seg_0.389'], 'ratio': [0.001, 0.012, 0.098, 0.212, 0.288, 0.389]}\n",
    "segment_dist = pd.DataFrame(data=df)\n",
    "segment_dist['total'] = total_data_size\n",
    "segment_dist['ct_rows'] = segment_dist['total'] * segment_dist['ratio']"
   ]
  },
  {
   "cell_type": "code",
   "execution_count": 5,
   "metadata": {},
   "outputs": [
    {
     "name": "stdout",
     "output_type": "stream",
     "text": [
      "seg_0.001 1000.0\n",
      "seg_0.012 12000.0\n",
      "seg_0.098 98000.0\n",
      "seg_0.212 212000.0\n",
      "seg_0.288 288000.0\n",
      "seg_0.389 389000.0\n"
     ]
    }
   ],
   "source": [
    "data = np.array([], dtype=np.float64)\n",
    "for index, row in segment_dist.iterrows():\n",
    "    name = str(row['name'])\n",
    "    ct_rows = row['ct_rows']\n",
    "    data = np.append(data, np.full((int(ct_rows), ), name))\n",
    "    print(name, ct_rows)"
   ]
  },
  {
   "cell_type": "code",
   "execution_count": 4,
   "metadata": {},
   "outputs": [
    {
     "data": {
      "text/plain": [
       "array(['seg_0.001', 'seg_0.001', 'seg_0.001', ..., 'seg_0.389',\n",
       "       'seg_0.389', 'seg_0.389'], dtype='<U32')"
      ]
     },
     "execution_count": 4,
     "metadata": {},
     "output_type": "execute_result"
    }
   ],
   "source": [
    "data"
   ]
  },
  {
   "cell_type": "markdown",
   "metadata": {},
   "source": [
    "# Base on Central limit theorem, sampling distribution of the sample means approaches a normal distribution as the sample size gets larger — no matter what the shape of the population distribution."
   ]
  },
  {
   "cell_type": "code",
   "execution_count": 67,
   "metadata": {},
   "outputs": [
    {
     "data": {
      "text/plain": [
       "(array([ 2.,  3.,  9.,  9., 20., 20., 18.,  7.,  7.,  5.]),\n",
       " array([0.2738 , 0.27666, 0.27952, 0.28238, 0.28524, 0.2881 , 0.29096,\n",
       "        0.29382, 0.29668, 0.29954, 0.3024 ]),\n",
       " <a list of 10 Patch objects>)"
      ]
     },
     "execution_count": 67,
     "metadata": {},
     "output_type": "execute_result"
    },
    {
     "data": {
      "image/png": "[encoded data removed]",
      "text/plain": [
       "<matplotlib.figure.Figure at 0x1a385c7400>"
      ]
     },
     "metadata": {
      "needs_background": "light"
     },
     "output_type": "display_data"
    }
   ],
   "source": [
    "sample_size = 5000\n",
    "groups = 10\n",
    "dist = np.array([], dtype=np.float64)\n",
    "for ix in range(0, groups):  \n",
    "    sample_data_set = np.random.choice(data, sample_size)\n",
    "    seg_cov = sample_data_set[sample_data_set == 'seg_0.288'].size / sample_size\n",
    "    dist = np.append(dist, np.mean(seg_cov))\n",
    "plt.hist(dist)"
   ]
  },
  {
   "cell_type": "code",
   "execution_count": 68,
   "metadata": {},
   "outputs": [
    {
     "data": {
      "text/plain": [
       "(array([1., 2., 1., 2., 2., 3., 2., 6., 0., 1.]),\n",
       " array([0.2734 , 0.27594, 0.27848, 0.28102, 0.28356, 0.2861 , 0.28864,\n",
       "        0.29118, 0.29372, 0.29626, 0.2988 ]),\n",
       " <a list of 10 Patch objects>)"
      ]
     },
     "execution_count": 68,
     "metadata": {},
     "output_type": "execute_result"
    },
    {
     "data": {
      "image/png": "[encoded data removed]",
      "text/plain": [
       "<matplotlib.figure.Figure at 0x1a387417f0>"
      ]
     },
     "metadata": {
      "needs_background": "light"
     },
     "output_type": "display_data"
    }
   ],
   "source": [
    "sample_size = 5000\n",
    "groups = 20\n",
    "dist = np.array([], dtype=np.float64)\n",
    "for ix in range(0, groups):  \n",
    "    sample_data_set = np.random.choice(data, sample_size)\n",
    "    seg_cov = sample_data_set[sample_data_set == 'seg_0.288'].size / sample_size\n",
    "    dist = np.append(dist, np.mean(seg_cov))\n",
    "plt.hist(dist)"
   ]
  },
  {
   "cell_type": "code",
   "execution_count": 69,
   "metadata": {},
   "outputs": [
    {
     "data": {
      "text/plain": [
       "(array([1., 0., 4., 3., 8., 4., 4., 1., 3., 2.]),\n",
       " array([0.2746, 0.2773, 0.28  , 0.2827, 0.2854, 0.2881, 0.2908, 0.2935,\n",
       "        0.2962, 0.2989, 0.3016]),\n",
       " <a list of 10 Patch objects>)"
      ]
     },
     "execution_count": 69,
     "metadata": {},
     "output_type": "execute_result"
    },
    {
     "data": {
      "image/png": "[encoded data removed]",
      "text/plain": [
       "<matplotlib.figure.Figure at 0x1a38806ba8>"
      ]
     },
     "metadata": {
      "needs_background": "light"
     },
     "output_type": "display_data"
    }
   ],
   "source": [
    "sample_size = 5000\n",
    "groups = 30\n",
    "dist = np.array([], dtype=np.float64)\n",
    "for ix in range(0, groups):  \n",
    "    sample_data_set = np.random.choice(data, sample_size)\n",
    "    seg_cov = sample_data_set[sample_data_set == 'seg_0.288'].size / sample_size\n",
    "    dist = np.append(dist, np.mean(seg_cov))\n",
    "plt.hist(dist)"
   ]
  },
  {
   "cell_type": "code",
   "execution_count": 70,
   "metadata": {},
   "outputs": [
    {
     "data": {
      "text/plain": [
       "(array([1., 2., 2., 7., 6., 5., 4., 7., 3., 3.]),\n",
       " array([0.2734 , 0.27628, 0.27916, 0.28204, 0.28492, 0.2878 , 0.29068,\n",
       "        0.29356, 0.29644, 0.29932, 0.3022 ]),\n",
       " <a list of 10 Patch objects>)"
      ]
     },
     "execution_count": 70,
     "metadata": {},
     "output_type": "execute_result"
    },
    {
     "data": {
      "image/png": "[encoded data removed]",
      "text/plain": [
       "<matplotlib.figure.Figure at 0x1a388f1550>"
      ]
     },
     "metadata": {
      "needs_background": "light"
     },
     "output_type": "display_data"
    }
   ],
   "source": [
    "sample_size = 5000\n",
    "groups = 40\n",
    "dist = np.array([], dtype=np.float64)\n",
    "for ix in range(0, groups):  \n",
    "    sample_data_set = np.random.choice(data, sample_size)\n",
    "    seg_cov = sample_data_set[sample_data_set == 'seg_0.288'].size / sample_size\n",
    "    dist = np.append(dist, np.mean(seg_cov))\n",
    "plt.hist(dist)"
   ]
  },
  {
   "cell_type": "code",
   "execution_count": 71,
   "metadata": {},
   "outputs": [
    {
     "data": {
      "text/plain": [
       "(array([ 5.,  5.,  3.,  9., 14.,  8.,  3.,  1.,  1.,  1.]),\n",
       " array([0.276 , 0.2791, 0.2822, 0.2853, 0.2884, 0.2915, 0.2946, 0.2977,\n",
       "        0.3008, 0.3039, 0.307 ]),\n",
       " <a list of 10 Patch objects>)"
      ]
     },
     "execution_count": 71,
     "metadata": {},
     "output_type": "execute_result"
    },
    {
     "data": {
      "image/png": "[encoded data removed]",
      "text/plain": [
       "<matplotlib.figure.Figure at 0x1a385549e8>"
      ]
     },
     "metadata": {
      "needs_background": "light"
     },
     "output_type": "display_data"
    }
   ],
   "source": [
    "sample_size = 5000\n",
    "groups = 50\n",
    "dist = np.array([], dtype=np.float64)\n",
    "for ix in range(0, groups):  \n",
    "    sample_data_set = np.random.choice(data, sample_size)\n",
    "    seg_cov = sample_data_set[sample_data_set == 'seg_0.288'].size / sample_size\n",
    "    dist = np.append(dist, np.mean(seg_cov))\n",
    "plt.hist(dist)"
   ]
  },
  {
   "cell_type": "code",
   "execution_count": 72,
   "metadata": {},
   "outputs": [
    {
     "data": {
      "text/plain": [
       "(array([ 1.,  3.,  9.,  8., 25., 14., 16.,  8.,  9.,  7.]),\n",
       " array([0.2728 , 0.27566, 0.27852, 0.28138, 0.28424, 0.2871 , 0.28996,\n",
       "        0.29282, 0.29568, 0.29854, 0.3014 ]),\n",
       " <a list of 10 Patch objects>)"
      ]
     },
     "execution_count": 72,
     "metadata": {},
     "output_type": "execute_result"
    },
    {
     "data": {
      "image/png": "[encoded data removed]",
      "text/plain": [
       "<matplotlib.figure.Figure at 0x1a38a9d048>"
      ]
     },
     "metadata": {
      "needs_background": "light"
     },
     "output_type": "display_data"
    }
   ],
   "source": [
    "sample_size = 5000\n",
    "groups = 100\n",
    "dist = np.array([], dtype=np.float64)\n",
    "for ix in range(0, groups):  \n",
    "    sample_data_set = np.random.choice(data, sample_size)\n",
    "    seg_cov = sample_data_set[sample_data_set == 'seg_0.288'].size / sample_size\n",
    "    dist = np.append(dist, np.mean(seg_cov))\n",
    "plt.hist(dist)"
   ]
  },
  {
   "cell_type": "markdown",
   "metadata": {},
   "source": [
    "# Firstly, we can choose 10 sample set (ideally 100 sample set) with 5000 samples in each sample set. Secondly, compare the coverage 10 sample mean and the real coverage rate"
   ]
  },
  {
   "cell_type": "code",
   "execution_count": 64,
   "metadata": {},
   "outputs": [],
   "source": [
    "sample_size = 5000\n",
    "groups = 10"
   ]
  },
  {
   "cell_type": "code",
   "execution_count": 65,
   "metadata": {},
   "outputs": [
    {
     "name": "stdout",
     "output_type": "stream",
     "text": [
      "seg_0.001 estimit coverage rate:  0.001\n",
      "seg_0.012 estimit coverage rate:  0.012\n",
      "seg_0.098 estimit coverage rate:  0.097\n",
      "seg_0.212 estimit coverage rate:  0.213\n",
      "seg_0.288 estimit coverage rate:  0.293\n",
      "seg_0.389 estimit coverage rate:  0.39\n"
     ]
    }
   ],
   "source": [
    "for seg in segment_dist['name']:\n",
    "    dist = np.array([], dtype=np.float64)\n",
    "    for ix in range(0, groups):  \n",
    "        sample_data_set = np.random.choice(data, sample_size)\n",
    "        dist = np.append(dist, sample_data_set[sample_data_set == seg].size)\n",
    "    print(seg, 'estimit coverage rate: ', str(round(np.mean(dist) / sample_size, 3)))"
   ]
  },
  {
   "cell_type": "code",
   "execution_count": null,
   "metadata": {},
   "outputs": [],
   "source": []
  }
 ],
 "metadata": {
  "kernelspec": {
   "display_name": "Python 3",
   "language": "python",
   "name": "python3"
  },
  "language_info": {
   "codemirror_mode": {
    "name": "ipython",
    "version": 3
   },
   "file_extension": ".py",
   "mimetype": "text/x-python",
   "name": "python",
   "nbconvert_exporter": "python",
   "pygments_lexer": "ipython3",
   "version": "3.6.8"
  }
 },
 "nbformat": 4,
 "nbformat_minor": 2
}
