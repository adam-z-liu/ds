{
 "cells": [
  {
   "cell_type": "code",
   "execution_count": 79,
   "metadata": {},
   "outputs": [],
   "source": [
    "import numpy as np\n",
    "import matplotlib.pyplot as plt"
   ]
  },
  {
   "cell_type": "code",
   "execution_count": 80,
   "metadata": {},
   "outputs": [],
   "source": [
    "data = np.array([1,2,30,50,1000,2000])   #原始数据\n",
    "size_min = 200 # bubble size 最小值\n",
    "size_max = 1000 # bubble size 最大值\n",
    "\n",
    "size_range = size_max - size_min"
   ]
  },
  {
   "cell_type": "code",
   "execution_count": 81,
   "metadata": {},
   "outputs": [],
   "source": [
    "data_min = np.min(data)\n",
    "data_max = np.max(data)\n",
    "\n",
    "data_norm = (data - data_min) / (data_max - data_min) # min max归一化 (data - min) / (max - min)"
   ]
  },
  {
   "cell_type": "code",
   "execution_count": 82,
   "metadata": {},
   "outputs": [
    {
     "data": {
      "text/plain": [
       "array([  200.        ,   200.4002001 ,   211.6058029 ,   219.6098049 ,\n",
       "         599.79989995,  1000.        ])"
      ]
     },
     "execution_count": 82,
     "metadata": {},
     "output_type": "execute_result"
    }
   ],
   "source": [
    "bubble_size = size_min + size_range * data_norm # bubble size 压缩至size_min和size_max之间\n",
    "bubble_size"
   ]
  },
  {
   "cell_type": "code",
   "execution_count": 83,
   "metadata": {},
   "outputs": [
    {
     "data": {
      "image/png": "[encoded data removed]",
      "text/plain": [
       "<matplotlib.figure.Figure at 0x11a4bd978>"
      ]
     },
     "metadata": {},
     "output_type": "display_data"
    }
   ],
   "source": [
    "# create x,y\n",
    "x = np.random.rand(bubble_size.size)\n",
    "y = np.random.rand(bubble_size.size)\n",
    " \n",
    "# show bubble chart\n",
    "plt.scatter(x, y, s=bubble_size, alpha=0.5)\n",
    "plt.show()\n"
   ]
  },
  {
   "cell_type": "code",
   "execution_count": null,
   "metadata": {},
   "outputs": [],
   "source": []
  }
 ],
 "metadata": {
  "kernelspec": {
   "display_name": "Python 3",
   "language": "python",
   "name": "python3"
  },
  "language_info": {
   "codemirror_mode": {
    "name": "ipython",
    "version": 3
   },
   "file_extension": ".py",
   "mimetype": "text/x-python",
   "name": "python",
   "nbconvert_exporter": "python",
   "pygments_lexer": "ipython3",
   "version": "3.6.4"
  }
 },
 "nbformat": 4,
 "nbformat_minor": 2
}
